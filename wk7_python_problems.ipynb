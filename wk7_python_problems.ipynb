{
 "cells": [
  {
   "cell_type": "markdown",
   "id": "71e6d84b-e533-41d6-9ad0-07a6ea241f25",
   "metadata": {},
   "source": [
    "# Tutorial problems for Michaelmas term week 7\n",
    "\n",
    "I've provided a set of exercises for tutorials that follow on from each in-class lesson. I hope\n",
    "you can work through these in your own time and get feedback and support from your mathematics tutor.\n",
    "I would be keen to hear feedback about the\n",
    "exercises - both from students and tutors. Is the material too hard or too easy (or both)? Have I managed\n",
    "to bridge the Christmas vacation in a way that helps you come to the start of Hilary term without forgetting\n",
    "what you are learning now? Are you ready for the programming associated with the statistics part of the course?\n",
    "\n",
    "The aim of this week's problems is to:\n",
    "\n",
    " * Check you can log onto the online computer and access a Jupyter notebook from wherever you like to work.\n",
    " * Give you practice editing, running and saving a notebook\n",
    " * Practice editing python code to make it do something a bit different\n",
    " * Show you some of the syntax and ideas found in Python (and by extension other programming languages) \n",
    " \n",
    "To do this, I have provided a set of problems below. Please attempt these before your next tutorial and go to the tutorial ready to discuss any problems or questions.\n"
   ]
  },
  {
   "cell_type": "markdown",
   "id": "2f99851d-7440-488a-9692-df447afdc65a",
   "metadata": {},
   "source": [
    "## Problem 0.1:\n",
    "\n",
    "What values do the variables `mass` and `age` have after each statement in the following program? Document \n",
    "your answers in the markdown cell below, then test your answers by executing the commands.\n",
    "\n",
    "```\n",
    "mass = 47.5\n",
    "age = 122\n",
    "mass = mass * 2.0\n",
    "age = age - 20\n",
    "print(mass, age)\n",
    "```"
   ]
  },
  {
   "cell_type": "markdown",
   "id": "0145e3ce-474b-47eb-927d-11b2c8d5f370",
   "metadata": {},
   "source": [
    "**Write down your answers here:**\n",
    "95.0 102\n",
    "\n",
    "It should be possible to work this out without writing or running a the code. "
   ]
  },
  {
   "cell_type": "code",
   "execution_count": 1,
   "id": "6902ed4c-6228-4538-8a34-7d8740657d6d",
   "metadata": {},
   "outputs": [
    {
     "name": "stdout",
     "output_type": "stream",
     "text": [
      "95.0 102\n"
     ]
    }
   ],
   "source": [
    "# Test your answers here\n",
    "mass = 47.5\n",
    "age = 122\n",
    "mass = mass * 2.0\n",
    "age = age - 20\n",
    "print(mass, age)\n"
   ]
  },
  {
   "cell_type": "markdown",
   "id": "c2f70e02-8f11-4ffc-8f29-631ec4339ff2",
   "metadata": {},
   "source": [
    "## Problem 0.2:\n",
    "\n",
    "What does the following program print out?\n",
    "\n",
    "```\n",
    "first, second = 'Grace', 'Hopper'\n",
    "third, fourth = second, first\n",
    "print(third, fourth)\n",
    "```"
   ]
  },
  {
   "cell_type": "markdown",
   "id": "b50142b0-4e42-46f0-85ef-e9f7463d69e6",
   "metadata": {},
   "source": [
    "**Write down your answers here:**\n",
    "Hopper, Grace\n",
    "\n",
    "*It should be possible to work this out without writing or running a the code.*\n"
   ]
  },
  {
   "cell_type": "code",
   "execution_count": 2,
   "id": "a908e1b5-5ec5-4cb1-b918-9c7d7133c69d",
   "metadata": {},
   "outputs": [
    {
     "name": "stdout",
     "output_type": "stream",
     "text": [
      "Hopper Grace\n"
     ]
    }
   ],
   "source": [
    "# Test your answers here\n",
    "first, second = 'Grace', 'Hopper'\n",
    "third, fourth = second, first\n",
    "print(third, fourth)\n"
   ]
  },
  {
   "cell_type": "markdown",
   "id": "aeaf6422-f6af-4161-88a4-d70765b045a3",
   "metadata": {},
   "source": [
    "## Problem 1.1:\n",
    "\n",
    "A section of an array or a list is called a *slice*. We can take slices of character strings as well. For example:\n",
    "\n",
    "```\n",
    "element = 'oxygen'\n",
    "print('first three characters:', element[0:3])\n",
    "print('last three characters:', element[3:6])\n",
    "```\n",
    "\n",
    "Would output:\n",
    "\n",
    "```\n",
    "first three characters: oxy\n",
    "last three characters: gen\n",
    "```\n",
    "\n",
    "What is the value of `element[:4]`? What about `element[4:]`? Or `element[:]`?\n"
   ]
  },
  {
   "cell_type": "markdown",
   "id": "43037794-4b12-448e-a020-0aeb459edb2b",
   "metadata": {},
   "source": [
    "**Write down your answers here:**\n",
    "\n"
   ]
  },
  {
   "cell_type": "code",
   "execution_count": 10,
   "id": "a79734f7-9844-4237-8be4-5a8ed8a5fdf8",
   "metadata": {},
   "outputs": [
    {
     "name": "stdout",
     "output_type": "stream",
     "text": [
      "first three characters: oxyg\n",
      "last three characters: \n",
      "middle two characters: ox\n"
     ]
    }
   ],
   "source": [
    "# Test your answers here\n",
    "\n",
    "element = 'oxygen'\n",
    "print('first three characters:', element[:4])\n",
    "print('last three characters:', element[4:0])\n",
    "print('middle two characters:', element [:2])"
   ]
  },
  {
   "cell_type": "markdown",
   "id": "17e78faa-bc2a-4b67-a9f5-c6299199e0a1",
   "metadata": {},
   "source": [
    "## Problem 1.2:\n",
    "\n",
    "Work out what `element[-1]` using the cell below. What about `element[-2]`? Then explain what negative indices do."
   ]
  },
  {
   "cell_type": "code",
   "execution_count": 14,
   "id": "cddc5724-a653-46fb-ae9c-9425feacf921",
   "metadata": {},
   "outputs": [
    {
     "name": "stdout",
     "output_type": "stream",
     "text": [
      "n\n",
      "e\n"
     ]
    }
   ],
   "source": [
    "# Work out the solution here\n",
    "element = 'oxygen'\n",
    "\n",
    "print(element[-1])\n",
    "print(element[-2])"
   ]
  },
  {
   "cell_type": "markdown",
   "id": "de3d27d5-3e36-4d96-a5b0-cf3a3aef7591",
   "metadata": {},
   "source": [
    "**Explain what happens here:**\n",
    "\n",
    "\n"
   ]
  },
  {
   "cell_type": "markdown",
   "id": "1c604cdb-b4f7-4c69-96d2-65f7cfc32e03",
   "metadata": {},
   "source": [
    "## Problem 1.3:\n",
    "\n",
    "Given those answers, explain what `element[1:-1]` does."
   ]
  },
  {
   "cell_type": "code",
   "execution_count": 15,
   "id": "1d644913-1372-44db-b977-163f0b39eeec",
   "metadata": {},
   "outputs": [
    {
     "name": "stdout",
     "output_type": "stream",
     "text": [
      "xyge\n"
     ]
    }
   ],
   "source": [
    "# Work out the solution here\n",
    "element = 'oxygen'\n",
    "print(element[1:-1])\n"
   ]
  },
  {
   "cell_type": "markdown",
   "id": "45087e08-b2d4-4154-9625-15a725200464",
   "metadata": {},
   "source": [
    "**Explain what happens here:**\n",
    "\n",
    "\n"
   ]
  },
  {
   "cell_type": "markdown",
   "id": "dd61a6ed-32bd-4f80-be02-1febe05c055e",
   "metadata": {},
   "source": [
    "## Problem 2.1\n",
    "\n",
    "Python has 7 arithmetic operators: `*`, `/`, `+`, `-`, `**`, `//` and `%`. Use the cell below to work out what they all do."
   ]
  },
  {
   "cell_type": "code",
   "execution_count": 21,
   "id": "646d7d97-61bf-44aa-84c9-0e9086d0627e",
   "metadata": {},
   "outputs": [
    {
     "data": {
      "text/plain": [
       "(4, 1.0, 4, 0, 4, -6, 2)"
      ]
     },
     "execution_count": 21,
     "metadata": {},
     "output_type": "execute_result"
    }
   ],
   "source": [
    "2*2, 2/2, 2+2, 2-2, 2**2, -11//2, 11%3 \n",
    "\n",
    "#% is the moduli?"
   ]
  },
  {
   "cell_type": "markdown",
   "id": "1f10a1bc-190c-4553-a984-7828f4bc695b",
   "metadata": {},
   "source": [
    "**Explain what happens here:**\n",
    "'*' is multiplication, / is division, + and - is the addition and subtraction operation, ** is for indices, // is division and rounding up, % is the moduli\n"
   ]
  },
  {
   "cell_type": "markdown",
   "id": "fa3690e7-0cb6-421d-9fb7-41610798d4b5",
   "metadata": {},
   "source": [
    "## Problem 2.2\n",
    "\n",
    "When we combine operators together into an expession, they are evaluated in a particulat order. What is the order?\n",
    "For example, what happens when you evaluate `2 + 3 * 10`? Is it different to `3 * 10 + 2`? How can you change this order?"
   ]
  },
  {
   "cell_type": "code",
   "execution_count": 23,
   "id": "c265e4fc-acc0-4b12-9707-80077791d09a",
   "metadata": {},
   "outputs": [
    {
     "data": {
      "text/plain": [
       "(32, 32)"
      ]
     },
     "execution_count": 23,
     "metadata": {},
     "output_type": "execute_result"
    }
   ],
   "source": [
    "2 + 3 * 10, 3 * 10 + 2\n",
    "\n",
    "#based on the answer, it is the same value so it follows the order"
   ]
  },
  {
   "cell_type": "markdown",
   "id": "6a789278-cafb-41ed-9980-e05d878ecd21",
   "metadata": {},
   "source": [
    "**Explain what happens here:**\n",
    "\n"
   ]
  },
  {
   "cell_type": "markdown",
   "id": "d4884a35-dd9d-4867-b3a4-e4fdf42c5ada",
   "metadata": {},
   "source": [
    "## Problem 2.3\n",
    "\n",
    "Python has full support for complex numbers but uses `j` for the imaginary part (not $i$). For example $(7+3i)$ is written `(7 + 3j)`. Verify that complex numbers work as expected. For example, what is $i^2$?"
   ]
  },
  {
   "cell_type": "code",
   "execution_count": 28,
   "id": "6a394c25-8f45-47f3-8f60-e2b5c75481ee",
   "metadata": {},
   "outputs": [
    {
     "data": {
      "text/plain": [
       "(0j, (-1568+0j), (-1568+0j), (-576+2560j))"
      ]
     },
     "execution_count": 28,
     "metadata": {},
     "output_type": "execute_result"
    }
   ],
   "source": [
    "1+1j**2, 32+40j**2, 32+(40j**2), (32+40j)**2\n"
   ]
  },
  {
   "cell_type": "markdown",
   "id": "0d09b732-0b4f-4a80-9edb-c70f9bdc06f0",
   "metadata": {},
   "source": [
    "**Explain what happens here:**\n",
    "it works however, the bracket placement has to be before the ** to consider the whole expression\n"
   ]
  },
  {
   "cell_type": "markdown",
   "id": "644a4745-feda-4e50-8384-0015077813c4",
   "metadata": {
    "tags": []
   },
   "source": [
    "## Problem 3.1\n",
    "\n",
    "In problem 4 you looked at how strings, variables that represented collections of characters, could be accessed using *slices*.\n",
    "Here we'll look at how this works for lists and decide if slices work in the same way. \n",
    "\n",
    "We'll work with a list of elements created as follows:\n",
    "\n",
    "```\n",
    "elements = [\"hydrogen\", \"helium\", \"lithium\", \n",
    "            \"beryllium\", \"boron\", \"carbon\"]\n",
    "```\n",
    "\n",
    "once created we can print parts of this list: \n",
    "\n",
    "```\n",
    "print('first three elements:', elements[0:3])\n",
    "print('last three elements:', elements[3:6])\n",
    "```\n",
    "\n",
    "Would output:\n",
    "\n",
    "```\n",
    "first three characters: [\"hydrogen\", \"helium\", \"lithium\"]\n",
    "last three characters: [\"beryllium\", \"boron\", \"carbon\"]\n",
    "```\n",
    "\n",
    "What is the value of `elements[:4]`? What about `elements[4:]`? Or `elements[:]`?"
   ]
  },
  {
   "cell_type": "markdown",
   "id": "bbd91795-5c49-4fde-a866-0988cb7895bd",
   "metadata": {},
   "source": [
    "**Write down your answers here:**\n",
    "elements[:4] = \"hydrogen\", \"helium\", \"lithium\", \"beryllium\", \"boron\"\n",
    "elements[4:] = \"hydrogen\", \"helium\", \"lithium\", \"beryllium\", \"boron\"\n",
    "elements[:] = \"hydrogen\""
   ]
  },
  {
   "cell_type": "code",
   "execution_count": 2,
   "id": "38cbfc5f-675d-4257-969e-2c56ee8b4531",
   "metadata": {},
   "outputs": [
    {
     "name": "stdout",
     "output_type": "stream",
     "text": [
      "['hydrogen', 'helium', 'lithium', 'beryllium']\n",
      "['boron', 'carbon']\n",
      "['hydrogen', 'helium', 'lithium', 'beryllium', 'boron', 'carbon']\n"
     ]
    }
   ],
   "source": [
    "# Test your answer here\n",
    "elements = [\"hydrogen\", \"helium\", \"lithium\", \n",
    "            \"beryllium\", \"boron\", \"carbon\"]\n",
    "\n",
    "print(elements[:4])\n",
    "print(elements[4:])\n",
    "print(elements[:])\n",
    "#does that mean carbon and hydrogen are 0?"
   ]
  },
  {
   "cell_type": "markdown",
   "id": "9fa6c72b-64fb-4897-9878-61b0479dcb88",
   "metadata": {},
   "source": [
    "## Problem 3.2\n",
    "\n",
    "Use the cells below to work out what negative indexes do for list (see problem 4.2 and 4.3). Do lists work like strings?"
   ]
  },
  {
   "cell_type": "code",
   "execution_count": 5,
   "id": "30699310-da61-49b4-9ed8-e14caf174294",
   "metadata": {},
   "outputs": [
    {
     "name": "stdout",
     "output_type": "stream",
     "text": [
      "['hydrogen', 'helium']\n",
      "['lithium', 'beryllium', 'boron', 'carbon']\n",
      "[]\n"
     ]
    }
   ],
   "source": [
    "# Do your working here\n",
    "elements = [\"hydrogen\", \"helium\", \"lithium\", \n",
    "            \"beryllium\", \"boron\", \"carbon\"]\n",
    "\n",
    "print(elements[:-4])\n",
    "print(elements[-4:])\n",
    "print(elements[-1:-1])\n",
    "#what does this mean???"
   ]
  },
  {
   "cell_type": "markdown",
   "id": "463543ff-6254-42fc-8db3-fcdf1a639bb9",
   "metadata": {},
   "source": [
    "**Explain what happens here**\n",
    "\n"
   ]
  },
  {
   "cell_type": "markdown",
   "id": "3f6100af-5a77-42a0-ac61-544ca65d0bca",
   "metadata": {},
   "source": [
    "## Problem 3.3\n",
    "\n",
    "Lists access can also be via three indexes. Something like:\n",
    "\n",
    "```\n",
    "elements = [\"hydrogen\", \"helium\", \"lithium\", \n",
    "            \"beryllium\", \"boron\", \"carbon\"]\n",
    "\n",
    "print('Some elements:', elements[0:6:2])\n",
    "```\n",
    "\n",
    "Use the cell below to work out what the third index (2) does? What happens if this is negative?"
   ]
  },
  {
   "cell_type": "code",
   "execution_count": 6,
   "id": "51ad8b7b-9516-477f-8a28-a4f4a5a890bd",
   "metadata": {},
   "outputs": [
    {
     "name": "stdout",
     "output_type": "stream",
     "text": [
      "Some elements: ['hydrogen', 'lithium', 'boron']\n"
     ]
    }
   ],
   "source": [
    "# Work out your answer here\n",
    "elements = [\"hydrogen\", \"helium\", \"lithium\", \n",
    "            \"beryllium\", \"boron\", \"carbon\"]\n",
    "\n",
    "print('Some elements:', elements[0:6:2])"
   ]
  },
  {
   "cell_type": "markdown",
   "id": "1937719a-0515-44f0-ae2c-3ce905adf3ba",
   "metadata": {},
   "source": [
    "**Explain what happens here**\n",
    "\n",
    "[start:stop:step] # start through not past stop, by step - a bit unclear"
   ]
  },
  {
   "cell_type": "markdown",
   "id": "113f4a32-be5a-439a-baab-0ac5a5816b14",
   "metadata": {},
   "source": [
    "## Problem 4, `range()`:\n",
    "\n",
    "Python has a built-in function called `range` that creates a sequence of numbers. `range` can accept 1, 2, or 3 parameters.\n",
    "\n",
    "* If one parameter is given, range creates an array of that length, starting at zero and incrementing by 1. For example, `range(3)` produces the numbers `0, 1, 2`.\n",
    "\n",
    "* If two parameters are given, range starts at the first and ends just before the second, incrementing by one. For example, `range(2, 5)` produces `2, 3, 4`.\n",
    "\n",
    "* If range is given 3 parameters, it starts at the first one, ends just before the second one, and increments by the third one. For exmaple `range(3, 10, 2)` produces `3, 5, 7, 9`.\n",
    "\n",
    "Using range, write a loop that uses range to print the first 3 natural numbers (1, 2 and 3) on three lines:"
   ]
  },
  {
   "cell_type": "code",
   "execution_count": 1,
   "id": "4de8a99e-2b96-46ca-a768-798380545bf6",
   "metadata": {},
   "outputs": [
    {
     "name": "stdout",
     "output_type": "stream",
     "text": [
      "1\n",
      "2\n",
      "3\n"
     ]
    }
   ],
   "source": [
    "# Put your answer here\n",
    "for p in range(1, 4):\n",
    "    print(p)\n"
   ]
  },
  {
   "cell_type": "markdown",
   "id": "377b2fcf-9b6f-4fd3-b57d-f2a2a778e4e2",
   "metadata": {},
   "source": [
    "## Problem 5, computing powers with loops:\n",
    "\n",
    "Exponentiation is built into Python, for example:\n",
    "```\n",
    "print(5 ** 3)\n",
    "```\n",
    "prints:\n",
    "```\n",
    "125\n",
    "```\n",
    "\n",
    "However, it is also possible to do the same calculation with a `for` loop using `range` . Write a loop that calculates\n",
    "the same result as 5 ** 3 using multiplication (and without exponentiation)."
   ]
  },
  {
   "cell_type": "code",
   "execution_count": 3,
   "id": "0ecf062d-eb9d-428e-901b-7dccb599d5c0",
   "metadata": {},
   "outputs": [
    {
     "name": "stdout",
     "output_type": "stream",
     "text": [
      "625\n"
     ]
    }
   ],
   "source": [
    "value = 5\n",
    "result = 1\n",
    "\n",
    "for i in range(4):\n",
    "    result=result*value\n",
    "    \n",
    "print(result) \n"
   ]
  },
  {
   "cell_type": "markdown",
   "id": "d6ca8e43-8abf-42b7-a24c-856fdd7ee98d",
   "metadata": {},
   "source": [
    "## Problem 6, sums and products\n",
    "\n",
    "If $x$ is a list of $n$ numbers, e.g. `x = [1, 2, 3, 4]` we can write the sum as:\n",
    "\n",
    "$$\\sum_{i=1}^n x_i = x_1 + x_2 ...  + x_n = 10$$\n",
    "\n",
    "(Watch out! In mathamatics we tend to start counting at 1, Python lists start from index 0.)\n",
    "We can also write the product:\n",
    "\n",
    "$$\\prod_{i=1}^n x_i = x_1 \\times x_2 ... \\times x_n = 252$$\n",
    "\n",
    "Both of these expressions can be calculated in a loop (this is sometimes called a reduction operation).\n",
    "Compleate the following two cells to show how this can be done, and explain your choice of the starting value for\n",
    "the `reduction_variable`:"
   ]
  },
  {
   "cell_type": "code",
   "execution_count": 4,
   "id": "87e84b48-7c3c-442c-963d-f685eb42f208",
   "metadata": {},
   "outputs": [
    {
     "name": "stdout",
     "output_type": "stream",
     "text": [
      "The sum of x is 10\n"
     ]
    }
   ],
   "source": [
    "# First equation (the sum)\n",
    "\n",
    "x = [1, 2, 3, 4]\n",
    "reduction_variable = 0\n",
    "\n",
    "for n in x:\n",
    "   reduction_variable=reduction_variable+n \n",
    "\n",
    "\n",
    "print(\"The sum of x is\", reduction_variable)\n"
   ]
  },
  {
   "cell_type": "code",
   "execution_count": 5,
   "id": "8ae2f626-f98f-41e6-9cae-359a2dd12bfc",
   "metadata": {},
   "outputs": [
    {
     "name": "stdout",
     "output_type": "stream",
     "text": [
      "The product of x is 24\n"
     ]
    }
   ],
   "source": [
    "# Second equation (the product)\n",
    "\n",
    "x = [1, 2, 3, 4]\n",
    "reduction_variable = 1\n",
    "\n",
    "for n in x:\n",
    "    reduction_variable=reduction_variable*n\n",
    "\n",
    "\n",
    "print(\"The product of x is\", reduction_variable)\n"
   ]
  },
  {
   "cell_type": "markdown",
   "id": "f1f8d33c-c50b-4763-b5d6-136a864ad10a",
   "metadata": {},
   "source": [
    "Why did you choose different values for the `reduction_variable`? **Write your answer here.**\n",
    "\n"
   ]
  },
  {
   "cell_type": "markdown",
   "id": "18a80654-407e-4fc9-98cc-9c42ee8667ef",
   "metadata": {},
   "source": [
    "## Problem 7, reverse a string:\n",
    "\n",
    "Two strings can be concatenated using the `+` operator. With this knowledge, write a loop that takes a string and produces a new string with the characters in reverse order, so '`Newton'` becomes `'notweN'`."
   ]
  },
  {
   "cell_type": "code",
   "execution_count": 14,
   "id": "8e526524-a275-4c7c-9c3b-64f30fefb4a4",
   "metadata": {},
   "outputs": [
    {
     "name": "stdout",
     "output_type": "stream",
     "text": [
      "notweN\n"
     ]
    }
   ],
   "source": [
    "# Put your answer here\n",
    "\n",
    "name='Newton'\n",
    "new_name='' # We need to start with an empty string.\n",
    "\n",
    "for smiley in name [::-1]:\n",
    "    new_name=new_name+smiley\n",
    "\n",
    "print(new_name)"
   ]
  },
  {
   "cell_type": "markdown",
   "id": "a7dc9a64-d76c-4522-a1e9-91b3b5626001",
   "metadata": {},
   "source": [
    "## Problem 8, computing the value of a polynomial:\n",
    "\n",
    "The built-in function `enumerate()` takes a sequence (e.g. a list) and generates a new sequence of \n",
    "the same length. Each element of the new sequence is a pair composed of the index (0, 1, 2,…) and \n",
    "the value from the original sequence:\n",
    "```\n",
    "xs = [7, 5, 2, 'bob']\n",
    "for i, x in enumerate(xs):\n",
    "    # Do something using i and x\n",
    "    print(\"element of index\", i, \"contains the value\", x)\n",
    "```\n",
    "The code above loops through xs, assigning the index to i and the value to x.\n",
    "\n",
    "Suppose you have encoded a polynomial as a list of coefficients in the following way: the first element is the constant term, the second element is the coefficient of the linear term, the third is the coefficient of the quadratic term, etc.\n",
    "```\n",
    "x = 5\n",
    "cc = [2, 4, 3]\n",
    "```\n",
    "so that\n",
    "```\n",
    "y = cc[0] * x**0 + cc[1] * x**1 + cc[2] * x**2\n",
    "y = 97\n",
    "```\n",
    "Write a loop using `enumerate(cc)` which computes the value y of any polynomial, given `x` and `cc`."
   ]
  },
  {
   "cell_type": "code",
   "execution_count": 17,
   "id": "cffc0df6-c95f-4069-9f3e-c26f9b927d59",
   "metadata": {},
   "outputs": [
    {
     "name": "stdout",
     "output_type": "stream",
     "text": [
      "97\n"
     ]
    }
   ],
   "source": [
    "x = 5\n",
    "cc = [2, 4, 3]\n",
    "y=0\n",
    "# Write a loop to calculate y\n",
    "for index, result in enumerate(cc):\n",
    "    y=y+result*(x**index)\n",
    "\n",
    "print(y)"
   ]
  },
  {
   "cell_type": "markdown",
   "id": "5f324605-977b-4404-8156-7fe03122edf9",
   "metadata": {},
   "source": [
    "## Problem 9:\n",
    "\n",
    "Use a for-loop to convert the string `\"hello\"` into the list of letters `[\"h\", \"e\", \"l\", \"l\", \"o\"]`.\n",
    "\n",
    "*Hint* you can start by creating an empty list: `my_list = []`"
   ]
  },
  {
   "cell_type": "code",
   "execution_count": 24,
   "id": "188f5912-4522-4e27-a744-17a3797be2d9",
   "metadata": {},
   "outputs": [
    {
     "name": "stdout",
     "output_type": "stream",
     "text": [
      "['H', 'e', 'l', 'l', 'o']\n"
     ]
    }
   ],
   "source": [
    "# Put your answer here\n",
    "\n",
    " # We need an empty list to start\n",
    "word = 'Hello'\n",
    "\n",
    "for characters in word:\n",
    "    let_list=[characters for characters in word]\n",
    "# Write the loop here\n",
    "\n",
    "print(let_list)\n",
    "#i removed let_list = [] as starting condition and it works fine. why?"
   ]
  },
  {
   "cell_type": "markdown",
   "id": "adae0341-ceee-413d-9ff2-efbc6dfa2b2d",
   "metadata": {},
   "source": [
    "## Problem 10:\n",
    "\n",
    "`+` usually means addition, but when used on strings or lists, it means \"concatenate\". Given that, what do you think the multiplication operator `*` does on lists? In particular, what will be the output of the following code?\n",
    "```\n",
    "counts = [2, 4, 6, 8, 10]\n",
    "repeats = counts * 2\n",
    "print(repeats)\n",
    "```\n",
    "1. `[2, 4, 6, 8, 10, 2, 4, 6, 8, 10]`,\n",
    "2. `[4, 8, 12, 16, 20]`, \n",
    "3. `[[2, 4, 6, 8, 10],[2, 4, 6, 8, 10]]`,\n",
    "4. `[2, 4, 6, 8, 10, 4, 8, 12, 16, 20]`.\n",
    "\n",
    "Try it out in the cell below, then explain what is happening in your own words.\n",
    "\n",
    "(The technical term for this is *operator overloading*: a single operator, like `+` or `*`, can do different things depending on what it is applied to.)"
   ]
  },
  {
   "cell_type": "code",
   "execution_count": 37,
   "id": "b405322d-e65d-4193-8ea1-7dc35567a7cd",
   "metadata": {},
   "outputs": [
    {
     "name": "stdout",
     "output_type": "stream",
     "text": [
      "[2, 4, 6, 8, 10, 2, 4, 6, 8, 10, 2, 4, 6, 8, 10, 2, 4, 6, 8, 10, 2, 4, 6, 8, 10, 2, 4, 6, 8, 10, 2, 4, 6, 8, 10, 2, 4, 6, 8, 10, 2, 4, 6, 8, 10, 2, 4, 6, 8, 10]\n",
      "['vanilla', 'pumpkin pie', 'pecan', 'vanilla', 'pumpkin pie', 'pecan', 'vanilla', 'pumpkin pie', 'pecan', 'vanilla', 'pumpkin pie', 'pecan']\n",
      "['snow on the beach', 'you belong with me', '22']\n"
     ]
    }
   ],
   "source": [
    "# Work out the solution here\n",
    "counts = [2, 4, 6, 8, 10]\n",
    "repeats = counts * 10\n",
    "print(repeats)\n",
    "\n",
    "gnd_flavours = ['vanilla','pumpkin pie','pecan']\n",
    "repeats = gnd_flavours * 4\n",
    "print(repeats)\n",
    "\n",
    "taylorswift_songs = ['snow on the beach','you belong with me','22']\n",
    "repeats = taylorswift_songs * 1\n",
    "print(repeats)"
   ]
  },
  {
   "cell_type": "markdown",
   "id": "f86ce11e-e3d8-4c93-999e-16f6ae18ce8f",
   "metadata": {},
   "source": [
    "**Explain what happens here:**\n",
    "the list is repeated by the multiplicating factor.\n"
   ]
  },
  {
   "cell_type": "markdown",
   "id": "a3225ff9-86c3-428f-9a95-0f62df2e909f",
   "metadata": {},
   "source": [
    "## Problem 11, different means:\n",
    "\n",
    "There are several different types of \"mean\" value of a list of numbers, $x$. The most common is the \n",
    "arithmetic mean, $A$, expressed as:\n",
    "\n",
    "$$A = \\frac{1}{n}\\sum_{i=1}^n x_i.$$\n",
    "\n",
    "We can also define the geometric mean, $G$, where the items in the list are multplied together and the $n$-th root taken:\n",
    "\n",
    "$$G = \\left(\\prod_{i=1}^n x_i \\right)^{\\frac{1}{n}},$$\n",
    "\n",
    "and the harmonic mean, $H$, which is the reciprocal of the arithmetic mean of the reciprocals of the list:\n",
    "\n",
    "$$H = \\frac{n}{ \\sum_{i=1}^n \\frac{1}{x_i}}.$$\n",
    "\n",
    "Write three loops below to compute $A$, $G$ and $H$ for the list `x = [1, 3, 5, 7, 9, 11, 13]`"
   ]
  },
  {
   "cell_type": "code",
   "execution_count": 41,
   "id": "534d85b4-5efd-4862-84dd-5c9040004e80",
   "metadata": {},
   "outputs": [
    {
     "name": "stdout",
     "output_type": "stream",
     "text": [
      "A is 7.0\n",
      "G is 5.407130298648436\n",
      "H is 3.5803177054355113\n"
     ]
    }
   ],
   "source": [
    "# Put your answer here\n",
    "x = [1, 3, 5, 7, 9, 11, 13]\n",
    "n=len(x)\n",
    "\n",
    "# Write three loops here!\n",
    "\n",
    "#Arithmetic\n",
    "sum_of_x=0\n",
    "for confused in x:\n",
    "    sum_of_x=sum_of_x+confused\n",
    "\n",
    "A=(sum_of_x)/n\n",
    "print('A is', str(A))\n",
    "\n",
    "#Geometric\n",
    "product_of_x=1\n",
    "\n",
    "for panic in x:\n",
    "   product_of_x=product_of_x*panic\n",
    "\n",
    "G=product_of_x**(1/n)\n",
    "print('G is', str(G))\n",
    "\n",
    "#Harmonic\n",
    "sum_of_reciprocal=0\n",
    "\n",
    "for catastrophe in x:\n",
    "    sum_of_reciprocal=sum_of_reciprocal+(1/catastrophe)\n",
    "\n",
    "H=n/sum_of_reciprocal\n",
    "print('H is', str(H))\n",
    "\n",
    "#notes: confused=panic=catastrophe=elements of x"
   ]
  },
  {
   "cell_type": "markdown",
   "id": "a46a3000-5418-45a3-9c05-e02da8c67687",
   "metadata": {},
   "source": [
    "## Problem 12:\n",
    "\n",
    "Dartmoor and Bodmin Moor in Devon and Cornwall (the South West tip of Great Britain) form part of a large granite intrusion. Thinking back to what you know about gravity and what we discussed in class, what would you expect a gravity survey to show in Devon and Cornwall. **In about 50 words, write down your answer in the cell below. Use Markdown to do this and make use of formatting as needed.**"
   ]
  },
  {
   "cell_type": "markdown",
   "id": "42027551-7821-4756-b2bf-7e11ef570dae",
   "metadata": {},
   "source": [
    "**Write your answer here**\n",
    "\n",
    "negative. granite is a felsic igneous rock so it is much less denser than mafic rocks.\n"
   ]
  },
  {
   "cell_type": "markdown",
   "id": "9d3be23b-52d1-409f-b992-ba7b68de2e00",
   "metadata": {},
   "source": [
    "## Problem 13:\n",
    "\n",
    "**Try to make a map of the BGS gravity data in and around Devon and Cornwall using Python.** You can reuse some of the code we wrote in class to do this. Note any problems you found so we can discuss them with your tutor. It may be useful to know that you can open multiple Jupyter notebooks at the same time (in different tabs in your web browser)."
   ]
  },
  {
   "cell_type": "code",
   "execution_count": 44,
   "id": "cb35d8df-6fc2-4cc9-82b3-c06d6f30cb6b",
   "metadata": {},
   "outputs": [
    {
     "name": "stdout",
     "output_type": "stream",
     "text": [
      "bgs  grav  isc\tprem.py  so2  starting_material\n"
     ]
    }
   ],
   "source": [
    "!ls ../data"
   ]
  },
  {
   "cell_type": "code",
   "execution_count": 45,
   "id": "44341da3-6e61-4185-8007-f281440b90b3",
   "metadata": {},
   "outputs": [
    {
     "name": "stdout",
     "output_type": "stream",
     "text": [
      "landgrav.csv  map.png  README_landgrav.pdf  README.md\n"
     ]
    }
   ],
   "source": [
    "!ls ../data/grav"
   ]
  },
  {
   "cell_type": "code",
   "execution_count": 46,
   "id": "c5d6e206-59ad-4eb8-b700-4597ec85dffd",
   "metadata": {},
   "outputs": [
    {
     "name": "stdout",
     "output_type": "stream",
     "text": [
      "SURVEY_AREA,STATION_ID,STATION_CODE,LATITUDE,LONGITUDE,GRID_EAST,GRID_NORTH,STATION_ELEV,ELEVATION_UNIT,BOUGUER_DENS,BASE_CODE,OBSERVED_GRAV,FREE_AIR_AN,ITOT_TC,ITOT_TCZ,TOT_TC,TOT_TCZ,BOUGUER_AN,SOURCE_CODE,READING_DATE,GRS,NTC\n",
      "YORK/SELBY,SE_53C11,,53.771000,-1.187000,453580,430840,7.90,,2.70,-16,1392.67,-5.97,0.00,Q,0.00,A,-6.86,,,,0.00\n",
      "YORK/SELBY,SE_52D15,,53.707500,-1.158170,455560,423800,14.00,,2.70,-16,1383.83,-7.44,0.00,Q,0.00,A,-9.02,,,,0.00\n",
      "YORK/SELBY,SE_52B01,,53.760502,-1.117170,458200,429730,20.00,,2.70,-16,1388.61,-5.39,0.00,Q,0.00,A,-7.65,,,,0.00\n",
      "YORK/SELBY,SE_64D01,,53.895828,-1.006170,465300,444880,14.00,,2.70,-16,1398.08,-9.46,0.00,Q,0.00,A,-11.04,,,,0.00\n",
      "YORK/SELBY,SE_66B10,,54.082668,-0.967830,467520,465700,73.00,,2.70,-16,1397.73,-7.71,0.00,Q,0.00,A,-15.97,,,,0.00\n",
      "YORK/SELBY,SE_64C02,,53.867828,-1.081330,460400,441700,26.00,,2.70,-16,1395.31,-6.11,0.00,Q,0.00,A,-9.05,,,,0.00\n",
      "YORK/SELBY,SE_64D02,,53.882671,-1.000170,465720,443420,17.00,,2.70,-16,1396.41,-9.07,0.00,Q,0.00,A,-10.99,,,,0.00\n",
      "YORK/SELBY,SE_55B06,,54.031670,-1.113830,458040,459900,17.00,,2.70,-16,1408.74,-9.59,0.00,Q,0.00,A,-11.51,,,,0.00\n",
      "YORK/SELBY,SE_52B11,,53.719170,-1.130670,457360,425120,7.00,,2.70,-16,1386.96,-7.48,0.00,Q,0.00,A,-8.27,,,,0.00\n"
     ]
    }
   ],
   "source": [
    "!head ../data/grav/landgrav.csv"
   ]
  },
  {
   "cell_type": "code",
   "execution_count": 48,
   "id": "a44c7cb3-425d-496d-9a8f-f70f0e48b820",
   "metadata": {},
   "outputs": [],
   "source": [
    "grid_east = []\n",
    "grid_north = []\n",
    "bouguer_anomaly = []\n",
    "\n",
    "data_file = open('../data/grav/landgrav.csv')\n",
    "\n",
    "for line in data_file:\n",
    " words = line.split(',')\n",
    " if words[0]=='SURVEY_AREA':\n",
    "     continue\n",
    " else:\n",
    "    grid_east.append(float(words[5]))\n",
    "    grid_north.append(float(words[6]))\n",
    "    bouguer_anomaly.append(float(words[17]))\n",
    "\n",
    "data_file.close()"
   ]
  },
  {
   "cell_type": "code",
   "execution_count": 56,
   "id": "bdb9b3a4-3123-4a69-86f9-6dd531ebd4be",
   "metadata": {},
   "outputs": [],
   "source": [
    "grid_east_in_area = []\n",
    "grid_north_in_area = []\n",
    "bouguer_anomaly_in_area = []\n",
    "\n",
    "south_boundary = 366243\n",
    "north_boundary = 75724\n",
    "west_boundary = 494006\n",
    "east_boundary = 265465 \n",
    "\n",
    "for east, north, bouguer in zip(grid_east, grid_north, bouguer_anomaly):\n",
    "    if (east > west_boundary) and (east < east_boundary) and (north > south_boundary) and (north < north_boundary):\n",
    "        grid_east_in_area.append(east)\n",
    "        grid_north_in_area.append(north)\n",
    "        bouguer_anomaly_in_area.append(bouguer)"
   ]
  },
  {
   "cell_type": "code",
   "execution_count": 57,
   "id": "b4d282a1-cba4-4cdc-b6c2-37d841a2d4b7",
   "metadata": {},
   "outputs": [],
   "source": [
    "import numpy as np\n",
    "import matplotlib.pyplot as plt\n",
    "import cartopy.crs as ccrs\n",
    "import cartopy.feature as cfeature\n",
    "%matplotlib inline\n",
    "\n",
    "\n",
    "def plot_points_on_osgb_map(data_east, data_north, data_values, east_boundary, \n",
    "                            west_boundary, south_boundary, north_boundary):\n",
    "    \n",
    "    fig, ax = plt.subplots(subplot_kw=dict(projection=ccrs.PlateCarree()), figsize=(15,15))\n",
    "\n",
    "    corners = ccrs.PlateCarree().transform_points(ccrs.OSGB(), np.array([west_boundary, east_boundary]),\n",
    "                                                               np.array([south_boundary, north_boundary]))\n",
    "\n",
    "    # Lower left x, lower left y, upper right x, upper right y \n",
    "    ax.set_extent((corners[0,0], corners[1,0], corners[0,1], corners[1,1]))\n",
    "\n",
    "    ax.add_feature(cfeature.LAND)\n",
    "    ax.add_feature(cfeature.COASTLINE)\n",
    "    ax.add_feature(cfeature.LAKES)\n",
    "    ax.add_feature(cfeature.RIVERS)\n",
    "\n",
    "    colors = ax.scatter(data_east, data_north, c=data_values, transform=ccrs.OSGB())\n",
    "\n",
    "    cbar = fig.colorbar(colors, orientation='vertical', fraction=0.02)\n",
    "    cbar.ax.set_ylabel('Bouguer gravity anomaly (mGal)')\n",
    "\n",
    "    gl = ax.gridlines(draw_labels=True)\n",
    "    gl.xlabels_top = False\n",
    "    gl.ylabels_right = False\n",
    "\n",
    "    ax.set_title(\"Gravity low in Devon and Cornwall\")\n",
    "\n",
    "    plt.show()"
   ]
  },
  {
   "cell_type": "code",
   "execution_count": 58,
   "id": "3c8e983f-7b42-46a4-bac5-f4015082b72b",
   "metadata": {},
   "outputs": [
    {
     "name": "stderr",
     "output_type": "stream",
     "text": [
      "/opt/tljh/user/lib/python3.10/site-packages/cartopy/mpl/gridliner.py:451: UserWarning: The .xlabels_top attribute is deprecated. Please use .top_labels to toggle visibility instead.\n",
      "  warnings.warn('The .xlabels_top attribute is deprecated. Please '\n",
      "/opt/tljh/user/lib/python3.10/site-packages/cartopy/mpl/gridliner.py:487: UserWarning: The .ylabels_right attribute is deprecated. Please use .right_labels to toggle visibility instead.\n",
      "  warnings.warn('The .ylabels_right attribute is deprecated. Please '\n"
     ]
    },
    {
     "data": {
      "image/png": "[encoded data removed]",
      "text/plain": [
       "<Figure size 1500x1500 with 2 Axes>"
      ]
     },
     "metadata": {},
     "output_type": "display_data"
    }
   ],
   "source": [
    "plot_points_on_osgb_map(grid_east_in_area, grid_north_in_area, bouguer_anomaly_in_area, east_boundary, west_boundary, south_boundary, north_boundary) "
   ]
  },
  {
   "cell_type": "markdown",
   "id": "afc80baa-c53d-4021-a98e-91833c938df6",
   "metadata": {},
   "source": [
    "## Problem 14:\n",
    "\n",
    "I've written 100 problems for this course and this is the 15th. So why is this \"problem 14\"? **In a few sentences, write down why you think I started numbering the problems at 0, and try to explain what this means for counting and labeling \"things\" in Python.** Write your answer in the cell below using Markdown."
   ]
  },
  {
   "cell_type": "markdown",
   "id": "ad8d14d8-a96f-40ce-b2d1-538708519782",
   "metadata": {},
   "source": [
    "**Write your answer here**\n",
    "\n"
   ]
  },
  {
   "cell_type": "code",
   "execution_count": 43,
   "id": "4641b24c-ffc3-436c-b5f6-58d713218c24",
   "metadata": {
    "scrolled": true
   },
   "outputs": [],
   "source": [
    "#You started numbering problems at 0 because you are using zero-based indexing.\n",
    "#So, the first element of an array is 0 instead of 1."
   ]
  }
 ],
 "metadata": {
  "kernelspec": {
   "display_name": "Python 3 (ipykernel)",
   "language": "python",
   "name": "python3"
  },
  "language_info": {
   "codemirror_mode": {
    "name": "ipython",
    "version": 3
   },
   "file_extension": ".py",
   "mimetype": "text/x-python",
   "name": "python",
   "nbconvert_exporter": "python",
   "pygments_lexer": "ipython3",
   "version": "3.10.13"
  }
 },
 "nbformat": 4,
 "nbformat_minor": 5
}
